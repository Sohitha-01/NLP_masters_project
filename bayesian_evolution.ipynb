{
  "nbformat": 4,
  "nbformat_minor": 0,
  "metadata": {
    "colab": {
      "provenance": []
    },
    "kernelspec": {
      "name": "python3",
      "display_name": "Python 3"
    },
    "language_info": {
      "name": "python"
    },
    "widgets": {
      "application/vnd.jupyter.widget-state+json": {
        "32e5633911aa4e359f4dee4598e4bed6": {
          "model_module": "@jupyter-widgets/output",
          "model_name": "OutputModel",
          "model_module_version": "1.0.0",
          "state": {
            "_dom_classes": [],
            "_model_module": "@jupyter-widgets/output",
            "_model_module_version": "1.0.0",
            "_model_name": "OutputModel",
            "_view_count": null,
            "_view_module": "@jupyter-widgets/output",
            "_view_module_version": "1.0.0",
            "_view_name": "OutputView",
            "layout": "IPY_MODEL_dc41c539d5494c4fb3f0d45d12d24282",
            "msg_id": "",
            "outputs": [
              {
                "output_type": "display_data",
                "data": {
                  "text/plain": "Sampling chain 0, 0 divergences \u001b[32m━━━━━━━━━━━━━━━━━━━━━━━━━━━━━━━━━━━━━━━━\u001b[0m \u001b[35m100%\u001b[0m \u001b[36m0:00:00\u001b[0m / \u001b[33m0:00:05\u001b[0m\n",
                  "text/html": "<pre style=\"white-space:pre;overflow-x:auto;line-height:normal;font-family:Menlo,'DejaVu Sans Mono',consolas,'Courier New',monospace\">Sampling chain 0, 0 divergences <span style=\"color: #008000; text-decoration-color: #008000\">━━━━━━━━━━━━━━━━━━━━━━━━━━━━━━━━━━━━━━━━</span> <span style=\"color: #800080; text-decoration-color: #800080\">100%</span> <span style=\"color: #008080; text-decoration-color: #008080\">0:00:00</span> / <span style=\"color: #808000; text-decoration-color: #808000\">0:00:05</span>\n</pre>\n"
                },
                "metadata": {}
              }
            ]
          }
        },
        "dc41c539d5494c4fb3f0d45d12d24282": {
          "model_module": "@jupyter-widgets/base",
          "model_name": "LayoutModel",
          "model_module_version": "1.2.0",
          "state": {
            "_model_module": "@jupyter-widgets/base",
            "_model_module_version": "1.2.0",
            "_model_name": "LayoutModel",
            "_view_count": null,
            "_view_module": "@jupyter-widgets/base",
            "_view_module_version": "1.2.0",
            "_view_name": "LayoutView",
            "align_content": null,
            "align_items": null,
            "align_self": null,
            "border": null,
            "bottom": null,
            "display": null,
            "flex": null,
            "flex_flow": null,
            "grid_area": null,
            "grid_auto_columns": null,
            "grid_auto_flow": null,
            "grid_auto_rows": null,
            "grid_column": null,
            "grid_gap": null,
            "grid_row": null,
            "grid_template_areas": null,
            "grid_template_columns": null,
            "grid_template_rows": null,
            "height": null,
            "justify_content": null,
            "justify_items": null,
            "left": null,
            "margin": null,
            "max_height": null,
            "max_width": null,
            "min_height": null,
            "min_width": null,
            "object_fit": null,
            "object_position": null,
            "order": null,
            "overflow": null,
            "overflow_x": null,
            "overflow_y": null,
            "padding": null,
            "right": null,
            "top": null,
            "visibility": null,
            "width": null
          }
        },
        "9348d25ff4f047f6b544b6e1ae9e2261": {
          "model_module": "@jupyter-widgets/output",
          "model_name": "OutputModel",
          "model_module_version": "1.0.0",
          "state": {
            "_dom_classes": [],
            "_model_module": "@jupyter-widgets/output",
            "_model_module_version": "1.0.0",
            "_model_name": "OutputModel",
            "_view_count": null,
            "_view_module": "@jupyter-widgets/output",
            "_view_module_version": "1.0.0",
            "_view_name": "OutputView",
            "layout": "IPY_MODEL_3f14f832a41e441f9177627e00e37928",
            "msg_id": "",
            "outputs": [
              {
                "output_type": "display_data",
                "data": {
                  "text/plain": "Sampling chain 1, 0 divergences \u001b[32m━━━━━━━━━━━━━━━━━━━━━━━━━━━━━━━━━━━━━━━━\u001b[0m \u001b[35m100%\u001b[0m \u001b[36m0:00:00\u001b[0m / \u001b[33m0:00:06\u001b[0m\n",
                  "text/html": "<pre style=\"white-space:pre;overflow-x:auto;line-height:normal;font-family:Menlo,'DejaVu Sans Mono',consolas,'Courier New',monospace\">Sampling chain 1, 0 divergences <span style=\"color: #008000; text-decoration-color: #008000\">━━━━━━━━━━━━━━━━━━━━━━━━━━━━━━━━━━━━━━━━</span> <span style=\"color: #800080; text-decoration-color: #800080\">100%</span> <span style=\"color: #008080; text-decoration-color: #008080\">0:00:00</span> / <span style=\"color: #808000; text-decoration-color: #808000\">0:00:06</span>\n</pre>\n"
                },
                "metadata": {}
              }
            ]
          }
        },
        "3f14f832a41e441f9177627e00e37928": {
          "model_module": "@jupyter-widgets/base",
          "model_name": "LayoutModel",
          "model_module_version": "1.2.0",
          "state": {
            "_model_module": "@jupyter-widgets/base",
            "_model_module_version": "1.2.0",
            "_model_name": "LayoutModel",
            "_view_count": null,
            "_view_module": "@jupyter-widgets/base",
            "_view_module_version": "1.2.0",
            "_view_name": "LayoutView",
            "align_content": null,
            "align_items": null,
            "align_self": null,
            "border": null,
            "bottom": null,
            "display": null,
            "flex": null,
            "flex_flow": null,
            "grid_area": null,
            "grid_auto_columns": null,
            "grid_auto_flow": null,
            "grid_auto_rows": null,
            "grid_column": null,
            "grid_gap": null,
            "grid_row": null,
            "grid_template_areas": null,
            "grid_template_columns": null,
            "grid_template_rows": null,
            "height": null,
            "justify_content": null,
            "justify_items": null,
            "left": null,
            "margin": null,
            "max_height": null,
            "max_width": null,
            "min_height": null,
            "min_width": null,
            "object_fit": null,
            "object_position": null,
            "order": null,
            "overflow": null,
            "overflow_x": null,
            "overflow_y": null,
            "padding": null,
            "right": null,
            "top": null,
            "visibility": null,
            "width": null
          }
        },
        "dd2a0f3c28ac499fbb2932e485614a52": {
          "model_module": "@jupyter-widgets/output",
          "model_name": "OutputModel",
          "model_module_version": "1.0.0",
          "state": {
            "_dom_classes": [],
            "_model_module": "@jupyter-widgets/output",
            "_model_module_version": "1.0.0",
            "_model_name": "OutputModel",
            "_view_count": null,
            "_view_module": "@jupyter-widgets/output",
            "_view_module_version": "1.0.0",
            "_view_name": "OutputView",
            "layout": "IPY_MODEL_a9194e4f78b4482895196b4c2e78f37f",
            "msg_id": "",
            "outputs": [
              {
                "output_type": "display_data",
                "data": {
                  "text/plain": "Sampling chain 0, 0 divergences \u001b[32m━━━━━━━━━━━━━━━━━━━━━━━━━━━━━━━━━━━━━━━━\u001b[0m \u001b[35m100%\u001b[0m \u001b[36m0:00:00\u001b[0m / \u001b[33m0:00:13\u001b[0m\n",
                  "text/html": "<pre style=\"white-space:pre;overflow-x:auto;line-height:normal;font-family:Menlo,'DejaVu Sans Mono',consolas,'Courier New',monospace\">Sampling chain 0, 0 divergences <span style=\"color: #008000; text-decoration-color: #008000\">━━━━━━━━━━━━━━━━━━━━━━━━━━━━━━━━━━━━━━━━</span> <span style=\"color: #800080; text-decoration-color: #800080\">100%</span> <span style=\"color: #008080; text-decoration-color: #008080\">0:00:00</span> / <span style=\"color: #808000; text-decoration-color: #808000\">0:00:13</span>\n</pre>\n"
                },
                "metadata": {}
              }
            ]
          }
        },
        "a9194e4f78b4482895196b4c2e78f37f": {
          "model_module": "@jupyter-widgets/base",
          "model_name": "LayoutModel",
          "model_module_version": "1.2.0",
          "state": {
            "_model_module": "@jupyter-widgets/base",
            "_model_module_version": "1.2.0",
            "_model_name": "LayoutModel",
            "_view_count": null,
            "_view_module": "@jupyter-widgets/base",
            "_view_module_version": "1.2.0",
            "_view_name": "LayoutView",
            "align_content": null,
            "align_items": null,
            "align_self": null,
            "border": null,
            "bottom": null,
            "display": null,
            "flex": null,
            "flex_flow": null,
            "grid_area": null,
            "grid_auto_columns": null,
            "grid_auto_flow": null,
            "grid_auto_rows": null,
            "grid_column": null,
            "grid_gap": null,
            "grid_row": null,
            "grid_template_areas": null,
            "grid_template_columns": null,
            "grid_template_rows": null,
            "height": null,
            "justify_content": null,
            "justify_items": null,
            "left": null,
            "margin": null,
            "max_height": null,
            "max_width": null,
            "min_height": null,
            "min_width": null,
            "object_fit": null,
            "object_position": null,
            "order": null,
            "overflow": null,
            "overflow_x": null,
            "overflow_y": null,
            "padding": null,
            "right": null,
            "top": null,
            "visibility": null,
            "width": null
          }
        },
        "b312f0a73a66496ba800f482bdca4474": {
          "model_module": "@jupyter-widgets/output",
          "model_name": "OutputModel",
          "model_module_version": "1.0.0",
          "state": {
            "_dom_classes": [],
            "_model_module": "@jupyter-widgets/output",
            "_model_module_version": "1.0.0",
            "_model_name": "OutputModel",
            "_view_count": null,
            "_view_module": "@jupyter-widgets/output",
            "_view_module_version": "1.0.0",
            "_view_name": "OutputView",
            "layout": "IPY_MODEL_fd5a0edb3aca49da8e29cd502655a7cf",
            "msg_id": "",
            "outputs": [
              {
                "output_type": "display_data",
                "data": {
                  "text/plain": "Sampling chain 1, 0 divergences \u001b[32m━━━━━━━━━━━━━━━━━━━━━━━━━━━━━━━━━━━━━━━━\u001b[0m \u001b[35m100%\u001b[0m \u001b[36m0:00:00\u001b[0m / \u001b[33m0:00:14\u001b[0m\n",
                  "text/html": "<pre style=\"white-space:pre;overflow-x:auto;line-height:normal;font-family:Menlo,'DejaVu Sans Mono',consolas,'Courier New',monospace\">Sampling chain 1, 0 divergences <span style=\"color: #008000; text-decoration-color: #008000\">━━━━━━━━━━━━━━━━━━━━━━━━━━━━━━━━━━━━━━━━</span> <span style=\"color: #800080; text-decoration-color: #800080\">100%</span> <span style=\"color: #008080; text-decoration-color: #008080\">0:00:00</span> / <span style=\"color: #808000; text-decoration-color: #808000\">0:00:14</span>\n</pre>\n"
                },
                "metadata": {}
              }
            ]
          }
        },
        "fd5a0edb3aca49da8e29cd502655a7cf": {
          "model_module": "@jupyter-widgets/base",
          "model_name": "LayoutModel",
          "model_module_version": "1.2.0",
          "state": {
            "_model_module": "@jupyter-widgets/base",
            "_model_module_version": "1.2.0",
            "_model_name": "LayoutModel",
            "_view_count": null,
            "_view_module": "@jupyter-widgets/base",
            "_view_module_version": "1.2.0",
            "_view_name": "LayoutView",
            "align_content": null,
            "align_items": null,
            "align_self": null,
            "border": null,
            "bottom": null,
            "display": null,
            "flex": null,
            "flex_flow": null,
            "grid_area": null,
            "grid_auto_columns": null,
            "grid_auto_flow": null,
            "grid_auto_rows": null,
            "grid_column": null,
            "grid_gap": null,
            "grid_row": null,
            "grid_template_areas": null,
            "grid_template_columns": null,
            "grid_template_rows": null,
            "height": null,
            "justify_content": null,
            "justify_items": null,
            "left": null,
            "margin": null,
            "max_height": null,
            "max_width": null,
            "min_height": null,
            "min_width": null,
            "object_fit": null,
            "object_position": null,
            "order": null,
            "overflow": null,
            "overflow_x": null,
            "overflow_y": null,
            "padding": null,
            "right": null,
            "top": null,
            "visibility": null,
            "width": null
          }
        }
      }
    }
  },
  "cells": [
    {
      "cell_type": "code",
      "source": [
        "import numpy as np\n",
        "import pandas as pd\n",
        "import matplotlib.pyplot as plt\n",
        "from scipy.interpolate import interp1d\n",
        "from scipy.stats import norm\n",
        "import pymc as pm\n",
        "import arviz as az\n",
        "\n",
        "# Part 1: Discrete Evolution Model with Inference\n",
        "class DiscreteEvolutionModel:\n",
        "    def __init__(self, data):\n",
        "        self.data = data\n",
        "        self.time_steps = data['X'].values\n",
        "        self.frequencies = data['A'].values\n",
        "\n",
        "    def create_inference_model(self):\n",
        "        with pm.Model() as model:\n",
        "            # Spline knots and basis\n",
        "            n_knots = 4\n",
        "            knots = np.linspace(self.time_steps.min(), self.time_steps.max(), n_knots)\n",
        "\n",
        "            # Spline basis for prevalence\n",
        "            B_prev = self._create_spline_basis(self.time_steps, knots)\n",
        "\n",
        "            # Spline basis for imbalance\n",
        "            B_imbal = self._create_spline_basis(self.time_steps, knots)\n",
        "\n",
        "            # Priors for spline coefficients\n",
        "            alpha_prev = pm.Normal('alpha_prev', mu=0, sigma=1, shape=n_knots)\n",
        "            alpha_imbal = pm.Normal('alpha_imbal', mu=0, sigma=1, shape=n_knots)\n",
        "\n",
        "            # Compute prevalence and imbalance through splines\n",
        "            prevalence = pm.Deterministic('prevalence', pm.math.sigmoid(pm.math.dot(B_prev, alpha_prev)))\n",
        "            imbalance = pm.Deterministic('imbalance', pm.math.dot(B_imbal, alpha_imbal))\n",
        "\n",
        "            # Likelihood\n",
        "            sigma = pm.HalfNormal('sigma', sigma=0.1)\n",
        "            likelihood = pm.Normal('likelihood',\n",
        "                                   mu=prevalence,\n",
        "                                   sigma=sigma,\n",
        "                                   observed=self.frequencies)\n",
        "\n",
        "        return model\n",
        "\n",
        "    def _create_spline_basis(self, x, knots):\n",
        "        basis = np.zeros((len(x), len(knots)))\n",
        "        for i, k in enumerate(knots):\n",
        "            basis[:, i] = np.maximum(0, 1 - np.abs(x - k))\n",
        "        return basis\n",
        "\n",
        "    def run_inference(self, draws=2000, tune=1000):\n",
        "        model = self.create_inference_model()\n",
        "        with model:\n",
        "            trace = pm.sample(draws=draws, tune=tune)\n",
        "        return trace\n",
        "\n",
        "    def posterior_summary(self, trace):\n",
        "        summary = az.summary(trace, hdi_prob=0.8)\n",
        "        return summary\n",
        "\n",
        "    def plot_posterior_frequency(self, trace):\n",
        "        # Extract prevalence data correctly from the trace\n",
        "        prevalence = trace.posterior['prevalence'].values\n",
        "\n",
        "        # Calculate mean and HDI\n",
        "        mean_freq = np.mean(prevalence, axis=(0, 1))\n",
        "        hdi = az.hdi(prevalence, hdi_prob=0.8)\n",
        "\n",
        "        plt.figure(figsize=(10, 6))\n",
        "        plt.plot(self.time_steps, mean_freq, label='Mean Frequency')\n",
        "        plt.fill_between(self.time_steps, hdi[..., 0], hdi[..., 1], alpha=0.3, label='80% HDI')\n",
        "        plt.title('Variant 1 Frequency Over Time')\n",
        "        plt.xlabel('Time Step')\n",
        "        plt.ylabel('Frequency')\n",
        "        plt.legend()\n",
        "        plt.show()\n",
        "\n",
        "# Part 2: Social Dynamics Model\n",
        "class SocialDynamicsModel:\n",
        "    def __init__(self, age_groups, initial_prev=0.1):\n",
        "        self.age_groups = age_groups\n",
        "        self.initial_prev = initial_prev\n",
        "\n",
        "        # Final distribution from the assignment\n",
        "        self.final_distribution = {\n",
        "            '75+': {'Variant 1': 0.25, 'Variant 2': 0.22},\n",
        "            '61-75': {'Variant 1': 0.35, 'Variant 2': 0.37},\n",
        "            '46-60': {'Variant 1': 0.62, 'Variant 2': 0.44},\n",
        "            '31-45': {'Variant 1': 0.81, 'Variant 2': 0.88},\n",
        "            '14-30': {'Variant 1': 0.37, 'Variant 2': 0.46}\n",
        "        }\n",
        "\n",
        "    def create_inference_model(self):\n",
        "        with pm.Model() as model:\n",
        "            # Infer initial prevalence\n",
        "            init_prev = pm.Uniform('init_prev', lower=0, upper=1)\n",
        "\n",
        "            # Social dynamics parameters\n",
        "            social_effect = pm.Normal('social_effect', mu=0, sigma=1)\n",
        "            age_effect = pm.Normal('age_effect', mu=0, sigma=1, shape=len(self.age_groups))\n",
        "\n",
        "            # Simulate variants for each age group\n",
        "            variant_prevalence = pm.Deterministic('variant_prevalence',\n",
        "                                                  pm.math.sigmoid(\n",
        "                                                      init_prev +\n",
        "                                                      social_effect * np.arange(len(self.age_groups)) +\n",
        "                                                      age_effect\n",
        "                                                  ))\n",
        "\n",
        "            # Likelihood based on final distribution\n",
        "            for idx, (age_group, distributions) in enumerate(self.final_distribution.items()):\n",
        "                v1_obs = pm.Normal(f'v1_{age_group}',\n",
        "                                   mu=variant_prevalence[idx],\n",
        "                                   sigma=0.1,\n",
        "                                   observed=distributions['Variant 1'])\n",
        "                v2_obs = pm.Normal(f'v2_{age_group}',\n",
        "                                   mu=1 - variant_prevalence[idx],\n",
        "                                   sigma=0.1,\n",
        "                                   observed=distributions['Variant 2'])\n",
        "\n",
        "        return model\n",
        "\n",
        "    def run_inference(self, draws=2000, tune=1000):\n",
        "        model = self.create_inference_model()\n",
        "        with model:\n",
        "            trace = pm.sample(draws=draws, tune=tune)\n",
        "        return trace\n",
        "\n",
        "    def plot_variant_prevalence(self, trace):\n",
        "        variant_prevalence = trace.posterior['variant_prevalence'].values\n",
        "\n",
        "        # Calculate mean and HDI\n",
        "        mean_prev = np.mean(variant_prevalence, axis=(0, 1))\n",
        "        hdi = az.hdi(variant_prevalence, hdi_prob=0.8)\n",
        "\n",
        "        plt.figure(figsize=(10, 6))\n",
        "        plt.bar(self.age_groups, mean_prev, yerr=(mean_prev - hdi[..., 0], hdi[..., 1] - mean_prev),\n",
        "                capsize=5, alpha=0.7)\n",
        "        plt.title('Variant Prevalence Across Age Groups')\n",
        "        plt.xlabel('Age Group')\n",
        "        plt.ylabel('Prevalence')\n",
        "        plt.ylim(0, 1)\n",
        "        plt.show()\n",
        "\n",
        "def main():\n",
        "    # Part 1: Discrete Evolution Model\n",
        "    try:\n",
        "        # Load data\n",
        "        data = pd.read_csv('section1_data1.csv')\n",
        "\n",
        "        # Initialize and run Discrete Evolution Model\n",
        "        dev_model = DiscreteEvolutionModel(data)\n",
        "        trace_dev = dev_model.run_inference()\n",
        "\n",
        "        # Posterior summary and plotting\n",
        "        summary_dev = dev_model.posterior_summary(trace_dev)\n",
        "        print(\"Discrete Evolution Model Posterior Summary:\")\n",
        "        print(summary_dev)\n",
        "        dev_model.plot_posterior_frequency(trace_dev)\n",
        "    except FileNotFoundError:\n",
        "        print(\"Error: section1_data1.csv not found. Please ensure the file is in the correct directory.\")\n",
        "    except Exception as e:\n",
        "        print(f\"An error occurred in Discrete Evolution Model: {e}\")\n",
        "\n",
        "    # Part 2: Social Dynamics Model\n",
        "    try:\n",
        "        age_groups = ['14-30', '31-45', '46-60', '61-75', '75+']\n",
        "        soc_model = SocialDynamicsModel(age_groups)\n",
        "        trace_soc = soc_model.run_inference()\n",
        "\n",
        "        # Posterior summary for Social Dynamics Model\n",
        "        summary_soc = az.summary(trace_soc, hdi_prob=0.8)\n",
        "        print(\"\\nSocial Dynamics Model Posterior Summary:\")\n",
        "        print(summary_soc)\n",
        "    except Exception as e:\n",
        "        print(f\"An error occurred in Social Dynamics Model: {e}\")\n",
        "\n",
        "if __name__ == '__main__':\n",
        "    main()"
      ],
      "metadata": {
        "colab": {
          "base_uri": "https://localhost:8080/",
          "height": 1000,
          "referenced_widgets": [
            "32e5633911aa4e359f4dee4598e4bed6",
            "dc41c539d5494c4fb3f0d45d12d24282",
            "9348d25ff4f047f6b544b6e1ae9e2261",
            "3f14f832a41e441f9177627e00e37928",
            "dd2a0f3c28ac499fbb2932e485614a52",
            "a9194e4f78b4482895196b4c2e78f37f",
            "b312f0a73a66496ba800f482bdca4474",
            "fd5a0edb3aca49da8e29cd502655a7cf"
          ]
        },
        "id": "TLWuf2YVcZ56",
        "outputId": "967a6261-83a3-4c3f-9a46-e516f888d132"
      },
      "execution_count": 11,
      "outputs": [
        {
          "output_type": "display_data",
          "data": {
            "text/plain": [
              "Output()"
            ],
            "application/vnd.jupyter.widget-view+json": {
              "version_major": 2,
              "version_minor": 0,
              "model_id": "32e5633911aa4e359f4dee4598e4bed6"
            }
          },
          "metadata": {}
        },
        {
          "output_type": "display_data",
          "data": {
            "text/plain": [],
            "text/html": [
              "<pre style=\"white-space:pre;overflow-x:auto;line-height:normal;font-family:Menlo,'DejaVu Sans Mono',consolas,'Courier New',monospace\"></pre>\n"
            ]
          },
          "metadata": {}
        },
        {
          "output_type": "display_data",
          "data": {
            "text/plain": [
              "Output()"
            ],
            "application/vnd.jupyter.widget-view+json": {
              "version_major": 2,
              "version_minor": 0,
              "model_id": "9348d25ff4f047f6b544b6e1ae9e2261"
            }
          },
          "metadata": {}
        },
        {
          "output_type": "display_data",
          "data": {
            "text/plain": [],
            "text/html": [
              "<pre style=\"white-space:pre;overflow-x:auto;line-height:normal;font-family:Menlo,'DejaVu Sans Mono',consolas,'Courier New',monospace\"></pre>\n"
            ]
          },
          "metadata": {}
        },
        {
          "output_type": "stream",
          "name": "stderr",
          "text": [
            "/usr/local/lib/python3.10/dist-packages/arviz/stats/diagnostics.py:596: RuntimeWarning: invalid value encountered in scalar divide\n",
            "  (between_chain_variance / within_chain_variance + num_samples - 1) / (num_samples)\n",
            "/usr/local/lib/python3.10/dist-packages/arviz/stats/diagnostics.py:596: RuntimeWarning: invalid value encountered in scalar divide\n",
            "  (between_chain_variance / within_chain_variance + num_samples - 1) / (num_samples)\n",
            "/usr/local/lib/python3.10/dist-packages/arviz/stats/diagnostics.py:596: RuntimeWarning: invalid value encountered in scalar divide\n",
            "  (between_chain_variance / within_chain_variance + num_samples - 1) / (num_samples)\n",
            "/usr/local/lib/python3.10/dist-packages/arviz/stats/diagnostics.py:596: RuntimeWarning: invalid value encountered in scalar divide\n",
            "  (between_chain_variance / within_chain_variance + num_samples - 1) / (num_samples)\n",
            "/usr/local/lib/python3.10/dist-packages/arviz/stats/diagnostics.py:596: RuntimeWarning: invalid value encountered in scalar divide\n",
            "  (between_chain_variance / within_chain_variance + num_samples - 1) / (num_samples)\n",
            "/usr/local/lib/python3.10/dist-packages/arviz/stats/diagnostics.py:596: RuntimeWarning: invalid value encountered in scalar divide\n",
            "  (between_chain_variance / within_chain_variance + num_samples - 1) / (num_samples)\n"
          ]
        },
        {
          "output_type": "stream",
          "name": "stdout",
          "text": [
            "Discrete Evolution Model Posterior Summary:\n",
            "                 mean     sd  hdi_10%  hdi_90%  mcse_mean  mcse_sd  ess_bulk  \\\n",
            "alpha_imbal[0]  0.011  1.003   -1.195    1.347      0.014    0.016    4919.0   \n",
            "alpha_imbal[1] -0.017  1.005   -1.188    1.377      0.015    0.016    4702.0   \n",
            "alpha_imbal[2] -0.012  0.985   -1.262    1.227      0.013    0.017    5592.0   \n",
            "alpha_imbal[3]  0.007  0.993   -1.350    1.199      0.014    0.015    5338.0   \n",
            "alpha_prev[0]  -0.743  0.718   -1.654    0.099      0.011    0.009    4638.0   \n",
            "alpha_prev[1]   0.367  0.842   -0.697    1.419      0.012    0.014    5227.0   \n",
            "alpha_prev[2]   0.592  0.920   -0.563    1.827      0.013    0.012    5247.0   \n",
            "alpha_prev[3]   0.017  0.699   -0.840    0.861      0.010    0.012    4532.0   \n",
            "imbalance[0]    0.011  1.003   -1.195    1.347      0.014    0.016    4919.0   \n",
            "imbalance[1]    0.000  0.000    0.000    0.000      0.000    0.000    4000.0   \n",
            "imbalance[2]    0.000  0.000    0.000    0.000      0.000    0.000    4000.0   \n",
            "imbalance[3]   -0.011  0.670   -0.792    0.918      0.010    0.011    4702.0   \n",
            "imbalance[4]    0.000  0.000    0.000    0.000      0.000    0.000    4000.0   \n",
            "imbalance[5]    0.000  0.000    0.000    0.000      0.000    0.000    4000.0   \n",
            "imbalance[6]   -0.004  0.328   -0.421    0.409      0.004    0.006    5592.0   \n",
            "imbalance[7]    0.000  0.000    0.000    0.000      0.000    0.000    4000.0   \n",
            "imbalance[8]    0.000  0.000    0.000    0.000      0.000    0.000    4000.0   \n",
            "imbalance[9]    0.007  0.993   -1.350    1.199      0.014    0.015    5338.0   \n",
            "prevalence[0]   0.339  0.145    0.149    0.510      0.002    0.002    4638.0   \n",
            "prevalence[1]   0.500  0.000    0.500    0.500      0.000    0.000    4000.0   \n",
            "prevalence[2]   0.500  0.000    0.500    0.500      0.000    0.000    4000.0   \n",
            "prevalence[3]   0.557  0.129    0.414    0.748      0.002    0.001    5227.0   \n",
            "prevalence[4]   0.500  0.000    0.500    0.500      0.000    0.000    4000.0   \n",
            "prevalence[5]   0.500  0.000    0.500    0.500      0.000    0.000    4000.0   \n",
            "prevalence[6]   0.548  0.074    0.460    0.654      0.001    0.001    5247.0   \n",
            "prevalence[7]   0.500  0.000    0.500    0.500      0.000    0.000    4000.0   \n",
            "prevalence[8]   0.500  0.000    0.500    0.500      0.000    0.000    4000.0   \n",
            "prevalence[9]   0.504  0.156    0.302    0.703      0.002    0.002    4532.0   \n",
            "sigma           0.201  0.037    0.151    0.241      0.001    0.000    4807.0   \n",
            "\n",
            "                ess_tail  r_hat  \n",
            "alpha_imbal[0]    3054.0    1.0  \n",
            "alpha_imbal[1]    3042.0    1.0  \n",
            "alpha_imbal[2]    2741.0    1.0  \n",
            "alpha_imbal[3]    3053.0    1.0  \n",
            "alpha_prev[0]     2721.0    1.0  \n",
            "alpha_prev[1]     2782.0    1.0  \n",
            "alpha_prev[2]     3308.0    1.0  \n",
            "alpha_prev[3]     2641.0    1.0  \n",
            "imbalance[0]      3054.0    1.0  \n",
            "imbalance[1]      4000.0    NaN  \n",
            "imbalance[2]      4000.0    NaN  \n",
            "imbalance[3]      3042.0    1.0  \n",
            "imbalance[4]      4000.0    NaN  \n",
            "imbalance[5]      4000.0    NaN  \n",
            "imbalance[6]      2741.0    1.0  \n",
            "imbalance[7]      4000.0    NaN  \n",
            "imbalance[8]      4000.0    NaN  \n",
            "imbalance[9]      3053.0    1.0  \n",
            "prevalence[0]     2721.0    1.0  \n",
            "prevalence[1]     4000.0    NaN  \n",
            "prevalence[2]     4000.0    NaN  \n",
            "prevalence[3]     2782.0    1.0  \n",
            "prevalence[4]     4000.0    NaN  \n",
            "prevalence[5]     4000.0    NaN  \n",
            "prevalence[6]     3308.0    1.0  \n",
            "prevalence[7]     4000.0    NaN  \n",
            "prevalence[8]     4000.0    NaN  \n",
            "prevalence[9]     2641.0    1.0  \n",
            "sigma             3152.0    1.0  \n"
          ]
        },
        {
          "output_type": "display_data",
          "data": {
            "text/plain": [
              "<Figure size 1000x600 with 1 Axes>"
            ],
            "image/png": "[encoded data removed]"
          },
          "metadata": {}
        },
        {
          "output_type": "display_data",
          "data": {
            "text/plain": [
              "Output()"
            ],
            "application/vnd.jupyter.widget-view+json": {
              "version_major": 2,
              "version_minor": 0,
              "model_id": "dd2a0f3c28ac499fbb2932e485614a52"
            }
          },
          "metadata": {}
        },
        {
          "output_type": "display_data",
          "data": {
            "text/plain": [],
            "text/html": [
              "<pre style=\"white-space:pre;overflow-x:auto;line-height:normal;font-family:Menlo,'DejaVu Sans Mono',consolas,'Courier New',monospace\"></pre>\n"
            ]
          },
          "metadata": {}
        },
        {
          "output_type": "display_data",
          "data": {
            "text/plain": [
              "Output()"
            ],
            "application/vnd.jupyter.widget-view+json": {
              "version_major": 2,
              "version_minor": 0,
              "model_id": "b312f0a73a66496ba800f482bdca4474"
            }
          },
          "metadata": {}
        },
        {
          "output_type": "display_data",
          "data": {
            "text/plain": [],
            "text/html": [
              "<pre style=\"white-space:pre;overflow-x:auto;line-height:normal;font-family:Menlo,'DejaVu Sans Mono',consolas,'Courier New',monospace\"></pre>\n"
            ]
          },
          "metadata": {}
        },
        {
          "output_type": "stream",
          "name": "stdout",
          "text": [
            "\n",
            "Social Dynamics Model Posterior Summary:\n",
            "                        mean     sd  hdi_10%  hdi_90%  mcse_mean  mcse_sd  \\\n",
            "age_effect[0]         -0.357  0.380   -0.830    0.156      0.008    0.006   \n",
            "age_effect[1]         -0.292  0.380   -0.791    0.178      0.009    0.007   \n",
            "age_effect[2]          0.265  0.465   -0.389    0.796      0.013    0.009   \n",
            "age_effect[3]         -0.068  0.592   -0.774    0.742      0.017    0.012   \n",
            "age_effect[4]          0.046  0.753   -0.996    0.911      0.023    0.017   \n",
            "init_prev              0.451  0.277    0.001    0.728      0.007    0.005   \n",
            "social_effect         -0.174  0.206   -0.435    0.090      0.006    0.005   \n",
            "variant_prevalence[0]  0.523  0.070    0.436    0.614      0.001    0.001   \n",
            "variant_prevalence[1]  0.496  0.070    0.403    0.584      0.001    0.001   \n",
            "variant_prevalence[2]  0.589  0.069    0.497    0.675      0.001    0.001   \n",
            "variant_prevalence[3]  0.466  0.070    0.380    0.558      0.001    0.001   \n",
            "variant_prevalence[4]  0.452  0.071    0.358    0.541      0.001    0.001   \n",
            "\n",
            "                       ess_bulk  ess_tail  r_hat  \n",
            "age_effect[0]            2069.0    2706.0    1.0  \n",
            "age_effect[1]            1746.0    2265.0    1.0  \n",
            "age_effect[2]            1313.0    1731.0    1.0  \n",
            "age_effect[3]            1172.0    1419.0    1.0  \n",
            "age_effect[4]            1116.0    1359.0    1.0  \n",
            "init_prev                1658.0    2363.0    1.0  \n",
            "social_effect            1094.0    1354.0    1.0  \n",
            "variant_prevalence[0]    5233.0    3156.0    1.0  \n",
            "variant_prevalence[1]    4083.0    2403.0    1.0  \n",
            "variant_prevalence[2]    4539.0    3146.0    1.0  \n",
            "variant_prevalence[3]    5590.0    3449.0    1.0  \n",
            "variant_prevalence[4]    4523.0    3346.0    1.0  \n"
          ]
        }
      ]
    }
  ]
}